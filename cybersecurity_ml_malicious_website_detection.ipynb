{
  "nbformat": 4,
  "nbformat_minor": 0,
  "metadata": {
    "colab": {
      "provenance": [],
      "gpuType": "T4",
      "authorship_tag": "ABX9TyOmt04oTGNhMHCMrfBKS2Ur",
      "include_colab_link": true
    },
    "kernelspec": {
      "name": "python3",
      "display_name": "Python 3"
    },
    "language_info": {
      "name": "python"
    },
    "accelerator": "GPU"
  },
  "cells": [
    {
      "cell_type": "markdown",
      "metadata": {
        "id": "view-in-github",
        "colab_type": "text"
      },
      "source": [
        "<a href=\"https://colab.research.google.com/github/ashutosh0964/ml_project/blob/main/cybersecurity_ml_malicious_website_detection.ipynb\" target=\"_parent\"><img src=\"https://colab.research.google.com/assets/colab-badge.svg\" alt=\"Open In Colab\"/></a>"
      ]
    },
    {
      "cell_type": "code",
      "source": [
        "from ucimlrepo import fetch_ucirepo\n",
        "import pandas as pd\n",
        "\n",
        "# Fetch dataset\n",
        "phishing_websites = fetch_ucirepo(id=327)\n",
        "\n",
        "# Inspect the structure of the data\n",
        "print(phishing_websites.data.features.shape)  # Shape of the features\n",
        "print(phishing_websites.data.targets.shape)   # Shape of the targets\n",
        "print(phishing_websites.variables)            # Variable information\n"
      ],
      "metadata": {
        "colab": {
          "base_uri": "https://localhost:8080/"
        },
        "id": "j2uzk8HnwoOH",
        "outputId": "92211413-5bb6-4405-9584-17d6481d3d07"
      },
      "execution_count": 16,
      "outputs": [
        {
          "output_type": "stream",
          "name": "stdout",
          "text": [
            "(11055, 30)\n",
            "(11055, 1)\n",
            "                          name     role     type demographic description  \\\n",
            "0            having_ip_address  Feature  Integer        None        None   \n",
            "1                   url_length  Feature  Integer        None        None   \n",
            "2           shortining_service  Feature  Integer        None        None   \n",
            "3             having_at_symbol  Feature  Integer        None        None   \n",
            "4     double_slash_redirecting  Feature  Integer        None        None   \n",
            "5                prefix_suffix  Feature  Integer        None        None   \n",
            "6            having_sub_domain  Feature  Integer        None        None   \n",
            "7               sslfinal_state  Feature  Integer        None        None   \n",
            "8   domain_registration_length  Feature  Integer        None        None   \n",
            "9                      favicon  Feature  Integer        None        None   \n",
            "10                        port  Feature  Integer        None        None   \n",
            "11                 https_token  Feature  Integer        None        None   \n",
            "12                 request_url  Feature  Integer        None        None   \n",
            "13               url_of_anchor  Feature  Integer        None        None   \n",
            "14               links_in_tags  Feature  Integer        None        None   \n",
            "15                         sfh  Feature  Integer        None        None   \n",
            "16         submitting_to_email  Feature  Integer        None        None   \n",
            "17                abnormal_url  Feature  Integer        None        None   \n",
            "18                    redirect  Feature  Integer        None        None   \n",
            "19                on_mouseover  Feature  Integer        None        None   \n",
            "20                  rightclick  Feature  Integer        None        None   \n",
            "21                 popupwindow  Feature  Integer        None        None   \n",
            "22                      iframe  Feature  Integer        None        None   \n",
            "23               age_of_domain  Feature  Integer        None        None   \n",
            "24                   dnsrecord  Feature  Integer        None        None   \n",
            "25                 web_traffic  Feature  Integer        None        None   \n",
            "26                   page_rank  Feature  Integer        None        None   \n",
            "27                google_index  Feature  Integer        None        None   \n",
            "28      links_pointing_to_page  Feature  Integer        None        None   \n",
            "29          statistical_report  Feature  Integer        None        None   \n",
            "30                      result   Target  Integer        None        None   \n",
            "\n",
            "   units missing_values  \n",
            "0   None             no  \n",
            "1   None             no  \n",
            "2   None             no  \n",
            "3   None             no  \n",
            "4   None             no  \n",
            "5   None             no  \n",
            "6   None             no  \n",
            "7   None             no  \n",
            "8   None             no  \n",
            "9   None             no  \n",
            "10  None             no  \n",
            "11  None             no  \n",
            "12  None             no  \n",
            "13  None             no  \n",
            "14  None             no  \n",
            "15  None             no  \n",
            "16  None             no  \n",
            "17  None             no  \n",
            "18  None             no  \n",
            "19  None             no  \n",
            "20  None             no  \n",
            "21  None             no  \n",
            "22  None             no  \n",
            "23  None             no  \n",
            "24  None             no  \n",
            "25  None             no  \n",
            "26  None             no  \n",
            "27  None             no  \n",
            "28  None             no  \n",
            "29  None             no  \n",
            "30  None             no  \n"
          ]
        }
      ]
    },
    {
      "cell_type": "code",
      "source": [
        "# Extract feature names and target column\n",
        "feature_names = phishing_websites.variables[phishing_websites.variables['role'] == 'Feature']['name'].tolist()\n",
        "target_name = phishing_websites.variables[phishing_websites.variables['role'] == 'Target']['name'].iloc[0]\n",
        "\n",
        "# Convert features and targets to DataFrame and Series respectively\n",
        "X = pd.DataFrame(phishing_websites.data.features, columns=feature_names)\n",
        "y = phishing_websites.data.targets[target_name]  # Correctly extract the target column as a Series\n",
        "\n",
        "# Display the first few rows to understand the structure\n",
        "df = pd.concat([X, y], axis=1)\n",
        "print(df.head())\n"
      ],
      "metadata": {
        "colab": {
          "base_uri": "https://localhost:8080/"
        },
        "id": "2rQkXq-zwrNi",
        "outputId": "396a7945-b5bc-438c-a717-5d5c05d25a7a"
      },
      "execution_count": 17,
      "outputs": [
        {
          "output_type": "stream",
          "name": "stdout",
          "text": [
            "   having_ip_address  url_length  shortining_service  having_at_symbol  \\\n",
            "0                 -1           1                   1                 1   \n",
            "1                  1           1                   1                 1   \n",
            "2                  1           0                   1                 1   \n",
            "3                  1           0                   1                 1   \n",
            "4                  1           0                  -1                 1   \n",
            "\n",
            "   double_slash_redirecting  prefix_suffix  having_sub_domain  sslfinal_state  \\\n",
            "0                        -1             -1                 -1              -1   \n",
            "1                         1             -1                  0               1   \n",
            "2                         1             -1                 -1              -1   \n",
            "3                         1             -1                 -1              -1   \n",
            "4                         1             -1                  1               1   \n",
            "\n",
            "   domain_registration_length  favicon  ...  popupwindow  iframe  \\\n",
            "0                          -1        1  ...            1       1   \n",
            "1                          -1        1  ...            1       1   \n",
            "2                          -1        1  ...            1       1   \n",
            "3                           1        1  ...            1       1   \n",
            "4                          -1        1  ...           -1       1   \n",
            "\n",
            "   age_of_domain  dnsrecord  web_traffic  page_rank  google_index  \\\n",
            "0             -1         -1           -1         -1             1   \n",
            "1             -1         -1            0         -1             1   \n",
            "2              1         -1            1         -1             1   \n",
            "3             -1         -1            1         -1             1   \n",
            "4             -1         -1            0         -1             1   \n",
            "\n",
            "   links_pointing_to_page  statistical_report  result  \n",
            "0                       1                  -1      -1  \n",
            "1                       1                   1      -1  \n",
            "2                       0                  -1      -1  \n",
            "3                      -1                   1      -1  \n",
            "4                       1                   1       1  \n",
            "\n",
            "[5 rows x 31 columns]\n"
          ]
        }
      ]
    },
    {
      "cell_type": "code",
      "source": [
        "from sklearn.ensemble import GradientBoostingClassifier, RandomForestClassifier\n",
        "from sklearn.model_selection import train_test_split\n",
        "from sklearn.metrics import classification_report, accuracy_score\n",
        "import xgboost as xgb\n",
        "import lightgbm as lgb\n"
      ],
      "metadata": {
        "id": "PAzgkBU1wvZ2"
      },
      "execution_count": 18,
      "outputs": []
    },
    {
      "cell_type": "code",
      "source": [
        "# Map target values from [-1, 1] to [0, 1]\n",
        "y_mapped = y.map({-1: 0, 1: 1})\n",
        "# Split the data using the mapped target values\n",
        "X_train, X_test, y_train, y_test = train_test_split(X, y_mapped, test_size=0.2, random_state=42)\n"
      ],
      "metadata": {
        "id": "L8mXl3a7wzRS"
      },
      "execution_count": 21,
      "outputs": []
    },
    {
      "cell_type": "code",
      "source": [
        "# Gradient Boosting Model\n",
        "gbm = GradientBoostingClassifier()\n",
        "gbm.fit(X_train, y_train)\n",
        "y_pred = gbm.predict(X_test)\n",
        "print(\"GBM Model\")\n",
        "print(classification_report(y_test, y_pred))\n",
        "print(\"Accuracy:\", accuracy_score(y_test, y_pred))\n",
        "\n",
        "# XGBoost Model\n",
        "xgb_model = xgb.XGBClassifier()\n",
        "xgb_model.fit(X_train, y_train)\n",
        "y_pred = xgb_model.predict(X_test)\n",
        "print(\"XGBoost Model\")\n",
        "print(classification_report(y_test, y_pred))\n",
        "print(\"Accuracy:\", accuracy_score(y_test, y_pred))\n",
        "\n",
        "# LightGBM Model\n",
        "lgb_model = lgb.LGBMClassifier()\n",
        "lgb_model.fit(X_train, y_train)\n",
        "y_pred = lgb_model.predict(X_test)\n",
        "print(\"LightGBM Model\")\n",
        "print(classification_report(y_test, y_pred))\n",
        "print(\"Accuracy:\", accuracy_score(y_test, y_pred))\n",
        "\n",
        "# Random Forest Model\n",
        "rf_model = RandomForestClassifier()\n",
        "rf_model.fit(X_train, y_train)\n",
        "y_pred = rf_model.predict(X_test)\n",
        "print(\"Random Forest Model\")\n",
        "print(classification_report(y_test, y_pred))\n",
        "print(\"Accuracy:\", accuracy_score(y_test, y_pred))\n"
      ],
      "metadata": {
        "colab": {
          "base_uri": "https://localhost:8080/"
        },
        "id": "LI9p4HPUxB7Q",
        "outputId": "54594ec9-56b4-4ac5-84f4-be895b2e9003"
      },
      "execution_count": 22,
      "outputs": [
        {
          "output_type": "stream",
          "name": "stdout",
          "text": [
            "GBM Model\n",
            "              precision    recall  f1-score   support\n",
            "\n",
            "           0       0.95      0.93      0.94       956\n",
            "           1       0.95      0.96      0.96      1255\n",
            "\n",
            "    accuracy                           0.95      2211\n",
            "   macro avg       0.95      0.95      0.95      2211\n",
            "weighted avg       0.95      0.95      0.95      2211\n",
            "\n",
            "Accuracy: 0.9507010402532791\n",
            "XGBoost Model\n",
            "              precision    recall  f1-score   support\n",
            "\n",
            "           0       0.98      0.95      0.97       956\n",
            "           1       0.96      0.98      0.97      1255\n",
            "\n",
            "    accuracy                           0.97      2211\n",
            "   macro avg       0.97      0.97      0.97      2211\n",
            "weighted avg       0.97      0.97      0.97      2211\n",
            "\n",
            "Accuracy: 0.9706015377657169\n",
            "[LightGBM] [Info] Number of positive: 4902, number of negative: 3942\n",
            "[LightGBM] [Info] Auto-choosing row-wise multi-threading, the overhead of testing was 0.002607 seconds.\n",
            "You can set `force_row_wise=true` to remove the overhead.\n",
            "And if memory is not enough, you can set `force_col_wise=true`.\n",
            "[LightGBM] [Info] Total Bins 89\n",
            "[LightGBM] [Info] Number of data points in the train set: 8844, number of used features: 30\n",
            "[LightGBM] [Info] [binary:BoostFromScore]: pavg=0.554274 -> initscore=0.217955\n",
            "[LightGBM] [Info] Start training from score 0.217955\n",
            "LightGBM Model\n",
            "              precision    recall  f1-score   support\n",
            "\n",
            "           0       0.97      0.95      0.96       956\n",
            "           1       0.96      0.98      0.97      1255\n",
            "\n",
            "    accuracy                           0.97      2211\n",
            "   macro avg       0.97      0.96      0.96      2211\n",
            "weighted avg       0.97      0.97      0.97      2211\n",
            "\n",
            "Accuracy: 0.9656264133876075\n",
            "Random Forest Model\n",
            "              precision    recall  f1-score   support\n",
            "\n",
            "           0       0.97      0.95      0.96       956\n",
            "           1       0.96      0.98      0.97      1255\n",
            "\n",
            "    accuracy                           0.97      2211\n",
            "   macro avg       0.97      0.97      0.97      2211\n",
            "weighted avg       0.97      0.97      0.97      2211\n",
            "\n",
            "Accuracy: 0.9678878335594754\n"
          ]
        }
      ]
    }
  ]
}